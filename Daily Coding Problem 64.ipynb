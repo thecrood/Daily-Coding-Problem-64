{
 "cells": [
  {
   "cell_type": "markdown",
   "id": "65255900",
   "metadata": {},
   "source": [
    "# Daily Coding Problem 64"
   ]
  },
  {
   "cell_type": "raw",
   "id": "ea100ecd",
   "metadata": {},
   "source": [
    "This problem was asked by Google.\n",
    "\n",
    "A knight's tour is a sequence of moves by a knight on a chessboard such that all squares are visited once.\n",
    "\n",
    "Given N, write a function to return the number of knight's tours on an N by N chessboard."
   ]
  },
  {
   "cell_type": "markdown",
   "id": "f2dbee92",
   "metadata": {},
   "source": [
    "# Solution\n",
    "\n",
    "The brute force solution is here to try every possible permutation of moves and see if they're valid. That would be pretty much computationally infeasible, since we have N * N possible spots. That would be N^2!\n",
    "\n",
    "We can improve the performance on this using backtracking, similar to the N queen problem (#38) or the flight itinerary problem (#41). The basic idea is this:\n",
    "\n",
    " - For every possible square, initialize a knight there, and then:\n",
    " - Try every valid move from that square.\n",
    " - Once we've hit every single square, we can add to our count.\n",
    " \n",
    "We'll represent the tour as just a sequence of tuples (r, c). To speed things up and to avoid having to look at the whole tour to check whether a space has been used before, we can create an N by N board to mark whether we've seen it already."
   ]
  },
  {
   "cell_type": "code",
   "execution_count": 1,
   "id": "0714a33b",
   "metadata": {},
   "outputs": [],
   "source": [
    "def is_valid_move(board, move, n):\n",
    "    r, c = move\n",
    "    return 0 <= r < n and 0 <= c < n and board[r][c] is None\n",
    "\n",
    "def valid_moves(board, r, c, n):\n",
    "    deltas = [\n",
    "        (2, 1),\n",
    "        (1, 2),\n",
    "        (1, -2),\n",
    "        (-2, 1),\n",
    "        (-1, 2),\n",
    "        (2, -1),\n",
    "        (-1, -2),\n",
    "        (-2, -1),\n",
    "    ]\n",
    "    all_moves = [(r + r_delta, c + c_delta) for r_delta, c_delta in deltas]\n",
    "    return [move for move in all_moves if is_valid_move(board, move, n)]\n",
    "\n",
    "def knights_tours(n):\n",
    "    count = 0\n",
    "    for i in range(n):\n",
    "        for j in range(n):\n",
    "            board = [[None for _ in range(n)] for _ in range(n)]\n",
    "            board[i][j] = 0\n",
    "            count += knights_tours_helper(board, [(i, j)], n)\n",
    "    return count\n",
    "\n",
    "def knights_tours_helper(board, tour, n):\n",
    "    if len(tour) == n * n:\n",
    "        return 1\n",
    "    else:\n",
    "        count = 0\n",
    "        last_r, last_c = tour[-1]\n",
    "        for r, c in valid_moves(board, last_r, last_c, n):\n",
    "            tour.append((r, c))\n",
    "            board[r][c] = len(tour)\n",
    "            count += knights_tours_helper(board, tour, n)\n",
    "            tour.pop()\n",
    "            board[r][c] = None\n",
    "        return count"
   ]
  },
  {
   "cell_type": "markdown",
   "id": "b682e4cf",
   "metadata": {},
   "source": [
    "This takes O(N * N) space and potentially O(8^(N^2)) time, since at each step we have potentially 8 moves to check, and we have to do this for each square."
   ]
  },
  {
   "cell_type": "code",
   "execution_count": null,
   "id": "1253f220",
   "metadata": {},
   "outputs": [],
   "source": []
  }
 ],
 "metadata": {
  "kernelspec": {
   "display_name": "Python 3 (ipykernel)",
   "language": "python",
   "name": "python3"
  },
  "language_info": {
   "codemirror_mode": {
    "name": "ipython",
    "version": 3
   },
   "file_extension": ".py",
   "mimetype": "text/x-python",
   "name": "python",
   "nbconvert_exporter": "python",
   "pygments_lexer": "ipython3",
   "version": "3.8.10"
  }
 },
 "nbformat": 4,
 "nbformat_minor": 5
}
